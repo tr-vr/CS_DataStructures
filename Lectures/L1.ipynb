{
 "cells": [
  {
   "cell_type": "markdown",
   "metadata": {},
   "source": [
    "*** Java is a strict OOP language with strict requirements ***\n",
    "\n",
    "- All code lives inside a class*, even helper functions + global constraints, etc.\n",
    "To run a Java program, you typically define a main method using:\n",
    "    public static void main(String[] args)\n",
    "\n",
    "\n",
    "*** Java is statically typed ***\n",
    "\n",
    "All variables, parameters and methods must have a declared type.\n",
    "That type can never change.\n",
    "Expressions also have a type e.g 'large(5, 10) + 3' has type int.\n",
    "The compiler checks that all the types in your pgram are compatible before the program ever runs.\n",
    "\n",
    "- e.g String x = larger(5, 10) + 3 will fail to compile.\n",
    "- This is unlike a language like Python, where type checks are performed DURING execution.\n",
    "\n",
    "*** Pros vs Cons of Static Typing ***\n",
    "Pros:\n",
    "- Catches certain types of errors, making it easier on the programmer to debug their code.\n",
    "- Type errors can (almost) never occur on end user's computer.\n",
    "- Make it easier to read and reason about code.\n",
    "- Code can run more efficiently, e.g no need to do expensive runtime type checks.\n",
    "\n",
    "Cons:\n",
    "- Code becomes more verbose (alot more lines to read compared especially coming from Python)\n",
    "- Code is less general, e.g had to have two different larger functions earlier."
   ]
  }
 ],
 "metadata": {
  "kernelspec": {
   "display_name": "Python 3",
   "language": "python",
   "name": "python3"
  },
  "language_info": {
   "name": "python",
   "version": "3.9.6"
  }
 },
 "nbformat": 4,
 "nbformat_minor": 2
}
